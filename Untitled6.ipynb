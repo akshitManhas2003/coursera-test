{
  "nbformat": 4,
  "nbformat_minor": 0,
  "metadata": {
    "colab": {
      "provenance": [],
      "authorship_tag": "ABX9TyNfRziGikCDhbIi4OVq81D3",
      "include_colab_link": true
    },
    "kernelspec": {
      "name": "python3",
      "display_name": "Python 3"
    },
    "language_info": {
      "name": "python"
    }
  },
  "cells": [
    {
      "cell_type": "markdown",
      "metadata": {
        "id": "view-in-github",
        "colab_type": "text"
      },
      "source": [
        "<a href=\"https://colab.research.google.com/github/akshitManhas2003/coursera-test/blob/main/Untitled6.ipynb\" target=\"_parent\"><img src=\"https://colab.research.google.com/assets/colab-badge.svg\" alt=\"Open In Colab\"/></a>"
      ]
    },
    {
      "cell_type": "markdown",
      "metadata": {
        "id": "a47af6aa"
      },
      "source": [
        "# Task\n",
        "Optimize the provided Python code for faster processing of biological data, including sequence fetching, BLAST searches, PDB fetching, and sequence alignment."
      ]
    },
    {
      "cell_type": "markdown",
      "metadata": {
        "id": "f192f31b"
      },
      "source": [
        "## Optimize sequence fetching\n",
        "\n",
        "### Subtask:\n",
        "Modify the `fetch_mrna_sequence` method to use `Entrez.epost` followed by `Entrez.efetch` for batch fetching, which can be faster for multiple sequences.\n"
      ]
    },
    {
      "cell_type": "markdown",
      "metadata": {
        "id": "96e0a116"
      },
      "source": [
        "**Reasoning**:\n",
        "The subtask requires modifying the `fetch_mrna_sequence` method to handle a list of accessions using `epost` and `efetch`, and updating the `main` function to call this modified method. This involves changing the method signature, using `epost` to get a WebEnv and query_key, using `efetch` with these, parsing the results, and updating the main function. I will implement these changes in the provided code block.\n",
        "\n"
      ]
    },
    {
      "cell_type": "markdown",
      "metadata": {
        "id": "82fa7bdc"
      },
      "source": [
        "## Optimize blast search\n",
        "\n",
        "### Subtask:\n",
        "Modify the `run_blast_search` method to consider using `blastp` with a more specific database if possible, or potentially limit the number of expected results to speed up the query.\n"
      ]
    },
    {
      "cell_type": "markdown",
      "metadata": {
        "id": "90b02f44"
      },
      "source": [
        "**Reasoning**:\n",
        "Modify the `run_blast_search` method to potentially use a more specific database or limit the results returned by the BLAST query to improve performance. Add parameters to control these options.\n",
        "\n"
      ]
    },
    {
      "cell_type": "code",
      "source": [
        "# Full Integrated Bioinformatics Pipeline with Biopython\n",
        "\n",
        "from Bio import Entrez, SeqIO, Align\n",
        "from Bio.Seq import Seq\n",
        "from Bio.SeqUtils import gc_fraction\n",
        "from Bio.Blast import NCBIWWW, NCBIXML\n",
        "from Bio.PDB import PDBList, PDBParser\n",
        "import matplotlib.pyplot as plt\n",
        "\n",
        "# ----------------- User Inputs -----------------\n",
        "Entrez.email = \"akshitmanhas.fam@gmail.com\"\n",
        "accession = input(\"Enter Nucleotide Accession (e.g., NM_002046): \").strip()\n",
        "pdb_id = input(\"Enter PDB ID (e.g., 2XRM): \").strip().upper()\n",
        "\n",
        "# ----------------- Step 1: Fetch Nucleotide Sequence -----------------\n",
        "print(\"\\n=== Fetching Nucleotide Sequence from NCBI ===\")\n",
        "handle = Entrez.efetch(db=\"nucleotide\", id=accession, rettype=\"fasta\", retmode=\"text\")\n",
        "record = SeqIO.read(handle, \"fasta\")\n",
        "handle.close()\n",
        "\n",
        "print(f\"Accession ID: {record.id}\")\n",
        "print(f\"Length: {len(record.seq)} bases\")\n",
        "\n",
        "# ----------------- Step 2: GC Content -----------------\n",
        "gc_content = gc_fraction(record.seq) * 100\n",
        "print(f\"GC Content: {gc_content:.2f}%\")\n",
        "\n",
        "plt.bar([\"GC Content\", \"Remaining\"], [gc_content, 100 - gc_content], color=['green', 'gray'])\n",
        "plt.title(\"GC Content\")\n",
        "plt.ylabel(\"Percentage (%)\")\n",
        "plt.show()\n",
        "\n",
        "# ----------------- Step 3: Translation -----------------\n",
        "trim_len = len(record.seq) - (len(record.seq) % 3)  # trim to multiple of 3\n",
        "protein_seq = Seq(str(record.seq[:trim_len])).translate(to_stop=True)\n",
        "\n",
        "print(\"\\nTranslated Protein Sequence (first 100 aa):\")\n",
        "print(str(protein_seq)[:100], \"...\")\n",
        "\n",
        "# ----------------- Step 4: BLASTp -----------------\n",
        "print(\"\\n=== Running BLASTp (SwissProt) ===\")\n",
        "result_handle = NCBIWWW.qblast(\"blastp\", \"swissprot\", protein_seq[:1000])  # limit length\n",
        "blast_record = NCBIXML.read(result_handle)\n",
        "\n",
        "print(\"\\nTop 3 BLAST hits:\")\n",
        "for alignment in blast_record.alignments[:3]:\n",
        "    print(f\"\\nHit: {alignment.title} | Length: {alignment.length}\")\n",
        "    for hsp in alignment.hsps[:1]:\n",
        "        print(f\"  E-value: {hsp.expect}, Identities: {hsp.identities}\")\n",
        "\n",
        "# ----------------- Step 5: Fetch PDB Structure -----------------\n",
        "print(f\"\\n=== Fetching PDB Structure {pdb_id} ===\")\n",
        "pdbl = PDBList()\n",
        "pdb_file = pdbl.retrieve_pdb_file(pdb_id, pdir=\".\", file_format=\"pdb\")\n",
        "\n",
        "parser = PDBParser(QUIET=True)\n",
        "structure = parser.get_structure(pdb_id, pdb_file)\n",
        "\n",
        "chain_seq = \"\"\n",
        "for model in structure:\n",
        "    for chain in model:\n",
        "        residues = [res for res in chain if res.get_id()[0] == \" \"]  # ignore hetatm\n",
        "        seq = \"\".join([res.resname[0] for res in residues if len(res.resname) == 3])  # crude seq\n",
        "        chain_seq = seq\n",
        "        print(f\"\\nExtracted Chain {chain.id} Length: {len(chain_seq)} aa\")\n",
        "        break\n",
        "    break\n",
        "\n",
        "# ----------------- Step 6: Alignments -----------------\n",
        "print(\"\\n=== Global Alignment ===\")\n",
        "aligner = Align.PairwiseAligner()\n",
        "aligner.mode = \"global\"\n",
        "alignments_global = aligner.align(protein_seq, chain_seq)\n",
        "print(alignments_global[0])\n",
        "\n",
        "print(\"\\n=== Local Alignment ===\")\n",
        "aligner.mode = \"local\"\n",
        "alignments_local = aligner.align(protein_seq, chain_seq)\n",
        "print(alignments_local[0])\n"
      ],
      "metadata": {
        "colab": {
          "base_uri": "https://localhost:8080/",
          "height": 1000
        },
        "id": "cPAa1poRPJLl",
        "outputId": "3f37833a-a22a-4189-ff08-13ee26fbcc2f"
      },
      "execution_count": 6,
      "outputs": [
        {
          "output_type": "stream",
          "name": "stdout",
          "text": [
            "Enter Nucleotide Accession (e.g., NM_002046): NM_002046\n",
            "Enter PDB ID (e.g., 2XRM): 2XRM\n",
            "\n",
            "=== Fetching Nucleotide Sequence from NCBI ===\n",
            "Accession ID: NM_002046.7\n",
            "Length: 1285 bases\n",
            "GC Content: 56.11%\n"
          ]
        },
        {
          "output_type": "display_data",
          "data": {
            "text/plain": [
              "<Figure size 640x480 with 1 Axes>"
            ],
            "image/png": "[encoded data removed]"
          },
          "metadata": {}
        },
        {
          "output_type": "stream",
          "name": "stdout",
          "text": [
            "\n",
            "Translated Protein Sequence (first 100 aa):\n",
            "ALCSSCSTVSRIFFCVASRATSLRHHGEGEGRSQRIWSYWAPGHQGCF ...\n",
            "\n",
            "=== Running BLASTp (SwissProt) ===\n",
            "\n",
            "Top 3 BLAST hits:\n",
            "\n",
            "Hit: sp|Q9VL00.1| RecName: Full=Ubiquitin thioesterase otubain-like; AltName: Full=Ubiquitin-specific-processing protease otubain-like; Short=Deubiquitinating enzyme otubain-like [Drosophila melanogaster] | Length: 262\n",
            "  E-value: 5.05981, Identities: 12\n",
            "\n",
            "=== Fetching PDB Structure 2XRM ===\n",
            "Structure exists: './pdb2xrm.ent' \n",
            "\n",
            "Extracted Chain A Length: 301 aa\n",
            "\n",
            "=== Global Alignment ===\n",
            "target            0 -----------A--------L------------C--------------------------\n",
            "                  0 -----------|--------|------------|--------------------------\n",
            "query             0 SGVPMGVGIVGAPAVTAASALGAGGIIGVIATGCGVAHPALAGAIIGGVALTTATGGAGT\n",
            "\n",
            "target            3 --S-------------------SC-----------------S--------T--------V\n",
            "                 60 --|-------------------|------------------|--------|--------|\n",
            "query            60 APSAAAGHGTHVAGTVAAAGTGS-GVVGVAPLAALPIILALSGAGSGGMGTIALAIATAV\n",
            "\n",
            "target            9 SR-----------IFF-----------------------------C--------------\n",
            "                120 -------------|-------------------------------|--------------\n",
            "query           119 --ATAGPLGGGMAI--ITMSLGGPTASGGLHAAVLTAVSAAVSVVCAAGAGGAGAGATAG\n",
            "\n",
            "target           15 ---------V-A----------SRA-T----------------S--LRHH--GE--GEGR\n",
            "                180 ---------|-|----------|-|-|----------------|--|-----|---|---\n",
            "query           175 PATPAATAGVIAVGAVAPALALS-APTATAGGIAIVAPGVGILSTTL---ASG-TAG---\n",
            "\n",
            "target           32 -SQR---------------IW----------SYW-------A-------P-GHQ---GCF\n",
            "                240 -|-----------------|-----------|---------|-------|-|-----|--\n",
            "query           227 LS--GTAMAAPHVAGALALI-IALAGAAPLAS--LSGTGITAGLVAAATPIG--PTAG--\n",
            "\n",
            "target           48 -----------------------  48\n",
            "                300 ----------------------- 323\n",
            "query           278 AGGAGPLTLALVGAITGGPTGLG 301\n",
            "\n",
            "\n",
            "=== Local Alignment ===\n",
            "target            0 A--------L------------C----------------------------S--------\n",
            "                  0 |--------|------------|----------------------------|--------\n",
            "query            11 APAVTAASALGAGGIIGVIATGCGVAHPALAGAIIGGVALTTATGGAGTAPSAAAGHGTH\n",
            "\n",
            "target            4 -----------SC-----------------S--------T--------VSR---------\n",
            "                 60 -----------|------------------|--------|--------|-----------\n",
            "query            71 VAGTVAAAGTGS-GVVGVAPLAALPIILALSGAGSGGMGTIALAIATAV--ATAGPLGGG\n",
            "\n",
            "target           11 --IFF-----------------------------C-----------------------V-\n",
            "                120 --|-------------------------------|-----------------------|-\n",
            "query           128 MAI--ITMSLGGPTASGGLHAAVLTAVSAAVSVVCAAGAGGAGAGATAGPATPAATAGVI\n",
            "\n",
            "target           16 A----------SRA-T----------------S--LRHH--GE--GEGR-SQR-------\n",
            "                180 |----------|-|-|----------------|--|-----|---|----|---------\n",
            "query           186 AVGAVAPALALS-APTATAGGIAIVAPGVGILSTTL---ASG-TAG---LS--GTAMAAP\n",
            "\n",
            "target           35 --------IW----------SYW-------A-------P-GHQ---G  46\n",
            "                240 --------|-----------|---------|-------|-|-----| 287\n",
            "query           236 HVAGALALI-IALAGAAPLAS--LSGTGITAGLVAAATPIG--PTAG 278\n",
            "\n"
          ]
        }
      ]
    }
  ]
}